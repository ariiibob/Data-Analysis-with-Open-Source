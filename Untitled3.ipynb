{
  "nbformat": 4,
  "nbformat_minor": 0,
  "metadata": {
    "colab": {
      "provenance": [],
      "authorship_tag": "ABX9TyOhO7GD4FreYy5tBe1L3fxL",
      "include_colab_link": true
    },
    "kernelspec": {
      "name": "python3",
      "display_name": "Python 3"
    },
    "language_info": {
      "name": "python"
    }
  },
  "cells": [
    {
      "cell_type": "markdown",
      "metadata": {
        "id": "view-in-github",
        "colab_type": "text"
      },
      "source": [
        "<a href=\"https://colab.research.google.com/github/ariiibob/Data-Analysis-with-Open-Source/blob/main/Untitled3.ipynb\" target=\"_parent\"><img src=\"https://colab.research.google.com/assets/colab-badge.svg\" alt=\"Open In Colab\"/></a>"
      ]
    },
    {
      "cell_type": "code",
      "execution_count": null,
      "metadata": {
        "id": "JawXtUwpuPms"
      },
      "outputs": [],
      "source": [
        "import requests\n",
        "\n",
        "api_key = \"536d65515462696f3338565475416d\"\n",
        "url = \"http://openapi.seoul.go.kr:8088/536d65515462696f3338565475416d/json/energyUseDataSummaryInfo/1/1000/\"\n",
        "\n",
        "## 데이터 수집 url 및 api key 설정\n",
        "params = {\n",
        "    'serviceKey': api_key,\n",
        "    'returnType': 'json',\n",
        "    'numOfRows': '100',\n",
        "    'pageNo': '1',\n",
        "    'sidoName': '서울',\n",
        "    'ver': '1.0'\n",
        "}\n",
        "\n",
        "## 데이터 수집\n",
        "response = requests.get(url, params = params)\n",
        "\n",
        "## 호출 성공/실패 출력\n",
        "if response.status_code == 200:\n",
        "    print(\"api 호출 성공\")\n",
        "    #print(response.json())\n",
        "else:\n",
        "    print(f\"API 호출 실패: {response.status_code}\")"
      ]
    },
    {
      "cell_type": "code",
      "source": [
        "import pandas as pd\n",
        "import pandas.api.types as ptypes\n",
        "\n",
        "data = response.json()\n",
        "\n",
        "## JSON 구조에서 실제 데이터가 들어있는 부분만 추출\n",
        "rows = data['energyUseDataSummaryInfo']['row']\n",
        "\n",
        "## pandas DataFrame으로 변환\n",
        "df = pd.DataFrame(rows)\n",
        "\n",
        "print(df)"
      ],
      "metadata": {
        "id": "m3HnLoFZuVoE"
      },
      "execution_count": null,
      "outputs": []
    },
    {
      "cell_type": "code",
      "source": [
        "import pandas as pd\n",
        "\n",
        "df['YEAR'] = df['YEAR'].astype(int)\n",
        "df['MON'] = df['MON'].astype(int)\n",
        "df['DATE'] = pd.to_datetime(df['YEAR'].astype(str) + df['MON'].astype(str), format='%Y%m')\n",
        "\n",
        "def get_season(month):\n",
        "    if month in [3, 4, 5]:\n",
        "        return '봄'\n",
        "    elif month in [6, 7, 8]:\n",
        "        return '여름'\n",
        "    elif month in [9, 10, 11]:\n",
        "        return '가을'\n",
        "    else:\n",
        "        return '겨울'\n",
        "\n",
        "df['SEASON'] = df['MON'].apply(get_season)\n",
        "\n",
        "print(df)"
      ],
      "metadata": {
        "id": "Ub5DRFx2uXeY"
      },
      "execution_count": null,
      "outputs": []
    },
    {
      "cell_type": "code",
      "source": [
        "# 한글 처리를 위한 matplotlib 설정 (1)\n",
        "\n",
        "!sudo apt-get install -y fonts-nanum\n",
        "!sudo fc-cache –fv\n",
        "!rm ~/.cache/matplotlib -rf"
      ],
      "metadata": {
        "id": "wXzq6g8duZQ4"
      },
      "execution_count": null,
      "outputs": []
    },
    {
      "cell_type": "code",
      "source": [
        "# 한글 처리를 위한 matplotlib 설정 (2)\n",
        "\n",
        "import matplotlib.pyplot as plt\n",
        "plt.rc('font', family='NanumBarunGothic')"
      ],
      "metadata": {
        "id": "KaUJYbUZuaoN"
      },
      "execution_count": null,
      "outputs": []
    },
    {
      "cell_type": "code",
      "source": [
        "import pandas as pd\n",
        "import matplotlib.pyplot as plt\n",
        "\n",
        "df['EUS'] = pd.to_numeric(df['EUS'], errors='coerce').fillna(0).astype(int)\n",
        "df['GUS'] = pd.to_numeric(df['GUS'], errors='coerce').fillna(0).astype(int)\n",
        "df['WUS'] = pd.to_numeric(df['WUS'], errors='coerce').fillna(0).astype(int)\n",
        "df['HUS'] = pd.to_numeric(df['HUS'], errors='coerce').fillna(0).astype(int)\n",
        "df['SUM'] = df['EUS'] + df['GUS'] + df['WUS'] + df['HUS']\n",
        "df['TOTAL'] = df.groupby('YEAR')['SUM'].transform('sum')\n",
        "\n",
        "##year_total = df[['YEAR','TOTAL']].drop_duplicates()\n",
        "\n",
        "plt.plot(df['YEAR'], df['TOTAL'], marker='o')\n",
        "plt.title('연도별 에너지 사용 총액 변화 - 5333')"
      ],
      "metadata": {
        "id": "OSkIogRUucWA"
      },
      "execution_count": null,
      "outputs": []
    },
    {
      "cell_type": "code",
      "source": [
        "import pandas as pd\n",
        "import matplotlib.pyplot as plt\n",
        "\n",
        "df['GUS'] = pd.to_numeric(df['GUS'], errors='coerce').fillna(0).astype(int)\n",
        "df['CNT'] = pd.to_numeric(df['CNT'], errors='coerce').fillna(0).astype(int)\n",
        "df['GUS_AVG'] = (df['GUS'] / df['CNT']).astype(int)\n",
        "df['TOTAL_GUS_AVG'] = df.groupby('SEASON')['GUS_AVG'].transform('sum')\n",
        "\n",
        "year_total = df[['SEASON','TOTAL_GUS_AVG']].drop_duplicates()\n",
        "season_order = ['봄', '여름', '가을', '겨울']\n",
        "year_total['SEASON'] = pd.Categorical(year_total['SEASON'], categories=season_order, ordered=True)\n",
        "year_total = year_total.sort_values('SEASON')\n",
        "\n",
        "plt.bar(year_total['SEASON'], year_total['TOTAL_GUS_AVG'], width=0.5, color='black')\n",
        "plt.title('계절별 가스 사용량 평균')\n",
        "plt.xlabel('계절')\n",
        "plt.ylabel('가스 사용량 평균')\n",
        "for i, v in enumerate(year_total['TOTAL_GUS_AVG']):\n",
        "    plt.text(i, v + (v * 0.02), str(v), ha='center', va='bottom')\n",
        "plt.show()"
      ],
      "metadata": {
        "id": "F1D7pwLeud9Q"
      },
      "execution_count": null,
      "outputs": []
    }
  ]
}