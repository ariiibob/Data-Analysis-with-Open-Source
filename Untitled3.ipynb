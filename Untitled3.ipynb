{
  "nbformat": 4,
  "nbformat_minor": 0,
  "metadata": {
    "colab": {
      "provenance": [],
      "gpuType": "T4",
      "authorship_tag": "ABX9TyPWfryl3mKmjdur7oPtfm28",
      "include_colab_link": true
    },
    "kernelspec": {
      "name": "python3",
      "display_name": "Python 3"
    },
    "language_info": {
      "name": "python"
    },
    "accelerator": "GPU"
  },
  "cells": [
    {
      "cell_type": "markdown",
      "metadata": {
        "id": "view-in-github",
        "colab_type": "text"
      },
      "source": [
        "<a href=\"https://colab.research.google.com/github/ariiibob/Data-Analysis-with-Open-Source/blob/main/Untitled3.ipynb\" target=\"_parent\"><img src=\"https://colab.research.google.com/assets/colab-badge.svg\" alt=\"Open In Colab\"/></a>"
      ]
    },
    {
      "cell_type": "code",
      "execution_count": 1,
      "metadata": {
        "id": "JawXtUwpuPms",
        "outputId": "036a7591-1fcc-45d9-feac-24caddc45170",
        "colab": {
          "base_uri": "https://localhost:8080/"
        }
      },
      "outputs": [
        {
          "output_type": "stream",
          "name": "stdout",
          "text": [
            "     YEAR MM_TYPE MON        EUS       GUS           WUS           HUS\n",
            "0    2015      개인  01  193784708  59133720  12819757.886  22740838.937\n",
            "7    2015      개인  02  189974230  56487358  12656888.218  18793320.213\n",
            "19   2015      개인  03  175215719  49984873  12655474.249  13826348.508\n",
            "27   2015      개인  04  183891769  37306841  12954773.246   5836002.885\n",
            "28   2015      개인  05  177289769  22060892  13086734.214   1320895.801\n",
            "..    ...     ...  ..        ...       ...           ...           ...\n",
            "809  2024      개인  08  463971328   7072251    15873544.6    130082.263\n",
            "813  2024      개인  09  409872908   5729131    15143321.6   3420507.136\n",
            "819  2024      개인  10  282268119   8233421    15297669.9   2695491.396\n",
            "830  2024      개인  11  257927956  17418221    14678672.5   8836296.454\n",
            "835  2024      개인  12  134828126  42103424     7326853.6   1513199.277\n",
            "\n",
            "[120 rows x 7 columns]\n",
            "api 호출 성공\n"
          ]
        }
      ],
      "source": [
        "import requests\n",
        "import pandas as pd\n",
        "\n",
        "api_key = \"536d65515462696f3338565475416d\"\n",
        "url = \"http://openapi.seoul.go.kr:8088/536d65515462696f3338565475416d/json/energyUseDataSummaryInfo/1/1000/\"\n",
        "\n",
        "all_data = []\n",
        "\n",
        "for year in range(2015, 2025):  # 2015 ~ 2024\n",
        "    for month in range(1, 13):  # 1월 ~ 12월\n",
        "        month_str = f\"{month:02d}\"\n",
        "        url = f\"http://openapi.seoul.go.kr:8088/536d65515462696f3338565475416d/json/energyUseDataSummaryInfo/1/100/{year}/{month_str}/\"\n",
        "        response = requests.get(url)\n",
        "        data = response.json()\n",
        "\n",
        "        if 'energyUseDataSummaryInfo' in data and 'row' in data['energyUseDataSummaryInfo']:\n",
        "            rows = data['energyUseDataSummaryInfo']['row']\n",
        "            all_data.extend(rows)\n",
        "\n",
        "df = pd.DataFrame(all_data)\n",
        "df = df[df['MM_TYPE'] == '개인']\n",
        "print(df[['YEAR', 'MM_TYPE', 'MON', 'EUS', 'GUS', 'WUS', 'HUS']])\n",
        "\n",
        "## 호출 성공/실패 출력\n",
        "if response.status_code == 200:\n",
        "    print(\"api 호출 성공\")\n",
        "\n",
        "else:\n",
        "    print(f\"API 호출 실패: {response.status_code}\")"
      ]
    },
    {
      "cell_type": "code",
      "source": [
        "import pandas as pd\n",
        "\n",
        "df = pd.DataFrame(all_data)\n",
        "df = df[df['MM_TYPE'] == '개인']\n",
        "print(df[['YEAR', 'MM_TYPE', 'MON', 'EUS', 'GUS', 'WUS', 'HUS']])\n",
        "df.info()"
      ],
      "metadata": {
        "id": "m3HnLoFZuVoE",
        "outputId": "cea63017-0ce7-46e8-fdf6-e52f702934e9",
        "colab": {
          "base_uri": "https://localhost:8080/"
        }
      },
      "execution_count": 4,
      "outputs": [
        {
          "output_type": "stream",
          "name": "stdout",
          "text": [
            "     YEAR MM_TYPE MON        EUS       GUS           WUS           HUS\n",
            "0    2015      개인  01  193784708  59133720  12819757.886  22740838.937\n",
            "7    2015      개인  02  189974230  56487358  12656888.218  18793320.213\n",
            "19   2015      개인  03  175215719  49984873  12655474.249  13826348.508\n",
            "27   2015      개인  04  183891769  37306841  12954773.246   5836002.885\n",
            "28   2015      개인  05  177289769  22060892  13086734.214   1320895.801\n",
            "..    ...     ...  ..        ...       ...           ...           ...\n",
            "809  2024      개인  08  463971328   7072251    15873544.6    130082.263\n",
            "813  2024      개인  09  409872908   5729131    15143321.6   3420507.136\n",
            "819  2024      개인  10  282268119   8233421    15297669.9   2695491.396\n",
            "830  2024      개인  11  257927956  17418221    14678672.5   8836296.454\n",
            "835  2024      개인  12  134828126  42103424     7326853.6   1513199.277\n",
            "\n",
            "[120 rows x 7 columns]\n",
            "<class 'pandas.core.frame.DataFrame'>\n",
            "Index: 120 entries, 0 to 835\n",
            "Data columns (total 25 columns):\n",
            " #   Column    Non-Null Count  Dtype \n",
            "---  ------    --------------  ----- \n",
            " 0   YEAR      120 non-null    object\n",
            " 1   MON       120 non-null    object\n",
            " 2   MM_TYPE   120 non-null    object\n",
            " 3   CNT       120 non-null    object\n",
            " 4   EUS       120 non-null    object\n",
            " 5   EUS1      120 non-null    object\n",
            " 6   EUS2      120 non-null    object\n",
            " 7   ECO2_1    120 non-null    object\n",
            " 8   ECO2_2    120 non-null    object\n",
            " 9   GUS       120 non-null    object\n",
            " 10  GUS1      120 non-null    object\n",
            " 11  GUS2      120 non-null    object\n",
            " 12  GCO2_1    120 non-null    object\n",
            " 13  GCO2_2    120 non-null    object\n",
            " 14  WUS       120 non-null    object\n",
            " 15  WUS1      120 non-null    object\n",
            " 16  WUS2      120 non-null    object\n",
            " 17  WCO2_1    120 non-null    object\n",
            " 18  WCO2_2    120 non-null    object\n",
            " 19  HUS       120 non-null    object\n",
            " 20  HUS1      120 non-null    object\n",
            " 21  HUS2      120 non-null    object\n",
            " 22  HCO2_1    120 non-null    object\n",
            " 23  HCO2_2    120 non-null    object\n",
            " 24  REG_DATE  120 non-null    object\n",
            "dtypes: object(25)\n",
            "memory usage: 24.4+ KB\n"
          ]
        }
      ]
    },
    {
      "cell_type": "code",
      "source": [
        "import pandas as pd\n",
        "\n",
        "df['YEAR'] = df['YEAR'].astype(int)\n",
        "df['MON'] = df['MON'].astype(int)\n",
        "df['DATE'] = pd.to_datetime(df['YEAR'].astype(str) + df['MON'].astype(str), format='%Y%m')\n",
        "\n",
        "def get_season(month):\n",
        "    if month in [3, 4, 5]:\n",
        "        return '봄'\n",
        "    elif month in [6, 7, 8]:\n",
        "        return '여름'\n",
        "    elif month in [9, 10, 11]:\n",
        "        return '가을'\n",
        "    else:\n",
        "        return '겨울'\n",
        "\n",
        "df['SEASON'] = df['MON'].apply(get_season)\n",
        "\n",
        "print(df[['YEAR', 'MM_TYPE', 'MON', 'EUS', 'GUS', 'WUS', 'HUS']])"
      ],
      "metadata": {
        "id": "Ub5DRFx2uXeY",
        "outputId": "9b2e9fb3-26e7-4470-fbdc-aa1562fc11ca",
        "colab": {
          "base_uri": "https://localhost:8080/"
        }
      },
      "execution_count": null,
      "outputs": [
        {
          "output_type": "stream",
          "name": "stdout",
          "text": [
            "     YEAR MM_TYPE  MON        EUS       GUS           WUS           HUS\n",
            "0    2015      개인    1  193784708  59133720  12819757.886  22740838.937\n",
            "7    2015      개인    2  189974230  56487358  12656888.218  18793320.213\n",
            "19   2015      개인    3  175215719  49984873  12655474.249  13826348.508\n",
            "27   2015      개인    4  183891769  37306841  12954773.246   5836002.885\n",
            "28   2015      개인    5  177289769  22060892  13086734.214   1320895.801\n",
            "..    ...     ...  ...        ...       ...           ...           ...\n",
            "809  2024      개인    8  463971328   7072251    15873544.6    130082.263\n",
            "813  2024      개인    9  409872908   5729131    15143321.6   3420507.136\n",
            "819  2024      개인   10  282268119   8233421    15297669.9   2695491.396\n",
            "830  2024      개인   11  257927956  17418221    14678672.5   8836296.454\n",
            "835  2024      개인   12  134828126  42103424     7326853.6   1513199.277\n",
            "\n",
            "[120 rows x 7 columns]\n"
          ]
        }
      ]
    },
    {
      "cell_type": "code",
      "source": [
        "# 한글 처리를 위한 matplotlib 설정 (1)\n",
        "\n",
        "!sudo apt-get install -y fonts-nanum\n",
        "!sudo fc-cache –fv\n",
        "!rm ~/.cache/matplotlib -rf"
      ],
      "metadata": {
        "id": "wXzq6g8duZQ4",
        "outputId": "81f501e9-77cd-4885-9cd5-f261109cf0c2",
        "colab": {
          "base_uri": "https://localhost:8080/"
        }
      },
      "execution_count": null,
      "outputs": [
        {
          "output_type": "stream",
          "name": "stdout",
          "text": [
            "Reading package lists... Done\n",
            "Building dependency tree... Done\n",
            "Reading state information... Done\n",
            "The following NEW packages will be installed:\n",
            "  fonts-nanum\n",
            "0 upgraded, 1 newly installed, 0 to remove and 38 not upgraded.\n",
            "Need to get 10.3 MB of archives.\n",
            "After this operation, 34.1 MB of additional disk space will be used.\n",
            "Get:1 http://archive.ubuntu.com/ubuntu jammy/universe amd64 fonts-nanum all 20200506-1 [10.3 MB]\n",
            "Fetched 10.3 MB in 3s (3,370 kB/s)\n",
            "debconf: unable to initialize frontend: Dialog\n",
            "debconf: (No usable dialog-like program is installed, so the dialog based frontend cannot be used. at /usr/share/perl5/Debconf/FrontEnd/Dialog.pm line 78, <> line 1.)\n",
            "debconf: falling back to frontend: Readline\n",
            "debconf: unable to initialize frontend: Readline\n",
            "debconf: (This frontend requires a controlling tty.)\n",
            "debconf: falling back to frontend: Teletype\n",
            "dpkg-preconfigure: unable to re-open stdin: \n",
            "Selecting previously unselected package fonts-nanum.\n",
            "(Reading database ... 126675 files and directories currently installed.)\n",
            "Preparing to unpack .../fonts-nanum_20200506-1_all.deb ...\n",
            "Unpacking fonts-nanum (20200506-1) ...\n",
            "Setting up fonts-nanum (20200506-1) ...\n",
            "Processing triggers for fontconfig (2.13.1-4.2ubuntu5) ...\n"
          ]
        }
      ]
    },
    {
      "cell_type": "code",
      "source": [
        "# 한글 처리를 위한 matplotlib 설정 (2)\n",
        "\n",
        "import matplotlib.pyplot as plt\n",
        "plt.rc('font', family='NanumBarunGothic')"
      ],
      "metadata": {
        "id": "KaUJYbUZuaoN"
      },
      "execution_count": null,
      "outputs": []
    },
    {
      "cell_type": "code",
      "source": [
        "import pandas as pd\n",
        "import matplotlib.pyplot as plt\n",
        "\n",
        "df['EUS'] = pd.to_numeric(df['EUS'], errors='coerce').fillna(0).astype(int)\n",
        "df['GUS'] = pd.to_numeric(df['GUS'], errors='coerce').fillna(0).astype(int)\n",
        "df['WUS'] = pd.to_numeric(df['WUS'], errors='coerce').fillna(0).astype(int)\n",
        "df['HUS'] = pd.to_numeric(df['HUS'], errors='coerce').fillna(0).astype(int)\n",
        "df['SUM'] = df['EUS'] + df['GUS'] + df['WUS'] + df['HUS']\n",
        "df['TOTAL'] = df.groupby('YEAR')['SUM'].transform('sum')\n",
        "\n",
        "##year_total = df[['YEAR','TOTAL']].drop_duplicates()\n",
        "\n",
        "plt.plot(df['YEAR'], df['TOTAL'], marker='o')\n",
        "plt.title('연도별 에너지 사용 총액 변화 - 5333')"
      ],
      "metadata": {
        "id": "OSkIogRUucWA",
        "outputId": "6c1ff540-8201-4456-a54f-4076475d7b9e",
        "colab": {
          "base_uri": "https://localhost:8080/",
          "height": 469
        }
      },
      "execution_count": null,
      "outputs": [
        {
          "output_type": "execute_result",
          "data": {
            "text/plain": [
              "Text(0.5, 1.0, '연도별 에너지 사용 총액 변화 - 5333')"
            ]
          },
          "metadata": {},
          "execution_count": 7
        },
        {
          "output_type": "display_data",
          "data": {
            "text/plain": [
              "<Figure size 640x480 with 1 Axes>"
            ],
            "image/png": "[encoded data removed]"
          },
          "metadata": {}
        }
      ]
    },
    {
      "cell_type": "code",
      "source": [
        "import pandas as pd\n",
        "import matplotlib.pyplot as plt\n",
        "\n",
        "df['GUS'] = pd.to_numeric(df['GUS'], errors='coerce').fillna(0).astype(int)\n",
        "df['CNT'] = pd.to_numeric(df['CNT'], errors='coerce').fillna(0).astype(int)\n",
        "df['GUS_AVG'] = (df['GUS'] / df['CNT']).astype(int)\n",
        "df['TOTAL_GUS_AVG'] = df.groupby('SEASON')['GUS_AVG'].transform('sum')\n",
        "\n",
        "year_total = df[['SEASON','TOTAL_GUS_AVG']].drop_duplicates()\n",
        "season_order = ['봄', '여름', '가을', '겨울']\n",
        "year_total['SEASON'] = pd.Categorical(year_total['SEASON'], categories=season_order, ordered=True)\n",
        "year_total = year_total.sort_values('SEASON')\n",
        "\n",
        "plt.bar(year_total['SEASON'], year_total['TOTAL_GUS_AVG'], width=0.5, color='black')\n",
        "plt.title('계절별 가스 사용량 평균')\n",
        "plt.xlabel('계절')\n",
        "plt.ylabel('가스 사용량 평균')\n",
        "for i, v in enumerate(year_total['TOTAL_GUS_AVG']):\n",
        "    plt.text(i, v + (v * 0.02), str(v), ha='center', va='bottom')\n",
        "plt.show()"
      ],
      "metadata": {
        "id": "F1D7pwLeud9Q",
        "outputId": "3e243451-f129-48d3-a05f-972f83e41c72",
        "colab": {
          "base_uri": "https://localhost:8080/",
          "height": 471
        }
      },
      "execution_count": null,
      "outputs": [
        {
          "output_type": "display_data",
          "data": {
            "text/plain": [
              "<Figure size 640x480 with 1 Axes>"
            ],
            "image/png": "[encoded data removed]"
          },
          "metadata": {}
        }
      ]
    }
  ]
}